{
 "cells": [
  {
   "cell_type": "code",
   "execution_count": 25,
   "id": "9c694200",
   "metadata": {},
   "outputs": [],
   "source": [
    "import pandas as pd\n"
   ]
  },
  {
   "cell_type": "code",
   "execution_count": 26,
   "id": "71ae9ee4",
   "metadata": {},
   "outputs": [],
   "source": [
    "# loading preprocessed data for anakysis"
   ]
  },
  {
   "cell_type": "code",
   "execution_count": 27,
   "id": "7ff2051c",
   "metadata": {},
   "outputs": [
    {
     "name": "stdout",
     "output_type": "stream",
     "text": [
      "   Unnamed: 0  Pregnancies  Glucose  BloodPressure  SkinThickness  Insulin  \\\n",
      "0           0            6      148             72             35        0   \n",
      "1           1            1       85             66             29        0   \n",
      "2           2            8      183             64              0        0   \n",
      "3           3            1       89             66             23       94   \n",
      "4           4            0      137             40             35      168   \n",
      "\n",
      "    BMI  DiabetesPedigreeFunction  Age  Outcome  \n",
      "0  33.6                     0.627   50        1  \n",
      "1  26.6                     0.351   31        0  \n",
      "2  23.3                     0.672   32        1  \n",
      "3  28.1                     0.167   21        0  \n",
      "4  43.1                     2.288   33        1  \n"
     ]
    }
   ],
   "source": [
    "df = pd.read_csv('../data_clean/diabetes.csv')\n",
    "\n",
    "print(df.head())"
   ]
  },
  {
   "cell_type": "code",
   "execution_count": 28,
   "id": "87471280",
   "metadata": {},
   "outputs": [],
   "source": [
    "# loading libraries\n",
    "import matplotlib.pyplot as plt\n",
    "import seaborn as sns\n",
    "import numpy as np\n",
    "\n",
    "\n"
   ]
  },
  {
   "cell_type": "code",
   "execution_count": 29,
   "id": "df2411ce",
   "metadata": {},
   "outputs": [],
   "source": [
    "#creating sample from the populatuin (setting seed with random state property)"
   ]
  },
  {
   "cell_type": "code",
   "execution_count": 30,
   "id": "ad29cc87",
   "metadata": {},
   "outputs": [],
   "source": [
    "sample_data= df.sample(n= 25, random_state= 2923)\n"
   ]
  },
  {
   "cell_type": "code",
   "execution_count": 31,
   "id": "b66430d7",
   "metadata": {},
   "outputs": [
    {
     "data": {
      "text/html": [
       "<div>\n",
       "<style scoped>\n",
       "    .dataframe tbody tr th:only-of-type {\n",
       "        vertical-align: middle;\n",
       "    }\n",
       "\n",
       "    .dataframe tbody tr th {\n",
       "        vertical-align: top;\n",
       "    }\n",
       "\n",
       "    .dataframe thead th {\n",
       "        text-align: right;\n",
       "    }\n",
       "</style>\n",
       "<table border=\"1\" class=\"dataframe\">\n",
       "  <thead>\n",
       "    <tr style=\"text-align: right;\">\n",
       "      <th></th>\n",
       "      <th>Unnamed: 0</th>\n",
       "      <th>Pregnancies</th>\n",
       "      <th>Glucose</th>\n",
       "      <th>BloodPressure</th>\n",
       "      <th>SkinThickness</th>\n",
       "      <th>Insulin</th>\n",
       "      <th>BMI</th>\n",
       "      <th>DiabetesPedigreeFunction</th>\n",
       "      <th>Age</th>\n",
       "      <th>Outcome</th>\n",
       "    </tr>\n",
       "  </thead>\n",
       "  <tbody>\n",
       "    <tr>\n",
       "      <th>420</th>\n",
       "      <td>420</td>\n",
       "      <td>1</td>\n",
       "      <td>119</td>\n",
       "      <td>88</td>\n",
       "      <td>41</td>\n",
       "      <td>170</td>\n",
       "      <td>45.3</td>\n",
       "      <td>0.507</td>\n",
       "      <td>26</td>\n",
       "      <td>0</td>\n",
       "    </tr>\n",
       "    <tr>\n",
       "      <th>439</th>\n",
       "      <td>439</td>\n",
       "      <td>6</td>\n",
       "      <td>107</td>\n",
       "      <td>88</td>\n",
       "      <td>0</td>\n",
       "      <td>0</td>\n",
       "      <td>36.8</td>\n",
       "      <td>0.727</td>\n",
       "      <td>31</td>\n",
       "      <td>0</td>\n",
       "    </tr>\n",
       "    <tr>\n",
       "      <th>309</th>\n",
       "      <td>309</td>\n",
       "      <td>2</td>\n",
       "      <td>124</td>\n",
       "      <td>68</td>\n",
       "      <td>28</td>\n",
       "      <td>205</td>\n",
       "      <td>32.9</td>\n",
       "      <td>0.875</td>\n",
       "      <td>30</td>\n",
       "      <td>1</td>\n",
       "    </tr>\n",
       "    <tr>\n",
       "      <th>708</th>\n",
       "      <td>708</td>\n",
       "      <td>9</td>\n",
       "      <td>164</td>\n",
       "      <td>78</td>\n",
       "      <td>0</td>\n",
       "      <td>0</td>\n",
       "      <td>32.8</td>\n",
       "      <td>0.148</td>\n",
       "      <td>45</td>\n",
       "      <td>1</td>\n",
       "    </tr>\n",
       "    <tr>\n",
       "      <th>199</th>\n",
       "      <td>199</td>\n",
       "      <td>4</td>\n",
       "      <td>148</td>\n",
       "      <td>60</td>\n",
       "      <td>27</td>\n",
       "      <td>318</td>\n",
       "      <td>30.9</td>\n",
       "      <td>0.150</td>\n",
       "      <td>29</td>\n",
       "      <td>1</td>\n",
       "    </tr>\n",
       "  </tbody>\n",
       "</table>\n",
       "</div>"
      ],
      "text/plain": [
       "     Unnamed: 0  Pregnancies  Glucose  BloodPressure  SkinThickness  Insulin  \\\n",
       "420         420            1      119             88             41      170   \n",
       "439         439            6      107             88              0        0   \n",
       "309         309            2      124             68             28      205   \n",
       "708         708            9      164             78              0        0   \n",
       "199         199            4      148             60             27      318   \n",
       "\n",
       "      BMI  DiabetesPedigreeFunction  Age  Outcome  \n",
       "420  45.3                     0.507   26        0  \n",
       "439  36.8                     0.727   31        0  \n",
       "309  32.9                     0.875   30        1  \n",
       "708  32.8                     0.148   45        1  \n",
       "199  30.9                     0.150   29        1  "
      ]
     },
     "execution_count": 31,
     "metadata": {},
     "output_type": "execute_result"
    }
   ],
   "source": [
    "sample_data.head()\n"
   ]
  },
  {
   "cell_type": "code",
   "execution_count": 32,
   "id": "e04041dc",
   "metadata": {},
   "outputs": [],
   "source": [
    "#generating mean for Glucose"
   ]
  },
  {
   "cell_type": "code",
   "execution_count": 33,
   "id": "4684216d",
   "metadata": {},
   "outputs": [],
   "source": [
    "mean_Glucose=sample_data[\"Glucose\"].mean()"
   ]
  },
  {
   "cell_type": "code",
   "execution_count": 34,
   "id": "c2e4a93a",
   "metadata": {},
   "outputs": [],
   "source": [
    "#generating max value for Glucose"
   ]
  },
  {
   "cell_type": "code",
   "execution_count": 35,
   "id": "1cefeecd",
   "metadata": {},
   "outputs": [],
   "source": [
    "max_value_Glucose=sample_data[\"Glucose\"].max()"
   ]
  },
  {
   "cell_type": "code",
   "execution_count": 36,
   "id": "c7936fd2",
   "metadata": {},
   "outputs": [],
   "source": [
    "#generating mean for Glucose  for population"
   ]
  },
  {
   "cell_type": "code",
   "execution_count": 37,
   "id": "dbab60bf",
   "metadata": {},
   "outputs": [],
   "source": [
    "population_mean=df[\"Glucose\"].mean()"
   ]
  },
  {
   "cell_type": "code",
   "execution_count": 38,
   "id": "e1b87fd3",
   "metadata": {},
   "outputs": [],
   "source": [
    "#finding max value for Gl;ucose column for whole population"
   ]
  },
  {
   "cell_type": "code",
   "execution_count": 39,
   "id": "a549fbc9",
   "metadata": {},
   "outputs": [],
   "source": [
    "population_max=df[\"Glucose\"].max()"
   ]
  },
  {
   "cell_type": "code",
   "execution_count": 40,
   "id": "7438a60d",
   "metadata": {},
   "outputs": [],
   "source": [
    "# generating list for sample and population mean"
   ]
  },
  {
   "cell_type": "code",
   "execution_count": 41,
   "id": "0a510103",
   "metadata": {},
   "outputs": [],
   "source": [
    "keys=[\"sample\",\"population\"]"
   ]
  },
  {
   "cell_type": "code",
   "execution_count": 42,
   "id": "074ae81c",
   "metadata": {},
   "outputs": [],
   "source": [
    "values=[mean_Glucose,population_mean]"
   ]
  },
  {
   "cell_type": "code",
   "execution_count": 43,
   "id": "7d51496a",
   "metadata": {},
   "outputs": [
    {
     "name": "stdout",
     "output_type": "stream",
     "text": [
      "[125.36, 120.89453125]\n"
     ]
    }
   ],
   "source": [
    "print(values)"
   ]
  },
  {
   "cell_type": "code",
   "execution_count": 44,
   "id": "7c7a4bcf",
   "metadata": {},
   "outputs": [],
   "source": [
    "#visualizing the sample and population means"
   ]
  },
  {
   "cell_type": "code",
   "execution_count": 45,
   "id": "d8a27b62",
   "metadata": {},
   "outputs": [
    {
     "data": {
      "image/png": "[encoded data removed]",
      "text/plain": [
       "<Figure size 640x480 with 1 Axes>"
      ]
     },
     "metadata": {},
     "output_type": "display_data"
    }
   ],
   "source": [
    "plt.bar(keys, values, color ='blue',\n",
    "        width = 0.5)\n",
    " \n",
    "plt.xlabel(\"means\")\n",
    "plt.ylabel(\"mean values\")\n",
    "plt.title(\"comparing sample and population means\")\n",
    "\n",
    "\n",
    "plt.savefig(\"../results/sample_population_Glucose_mean.png\")\n",
    "\n",
    "plt.show()\n"
   ]
  },
  {
   "cell_type": "code",
   "execution_count": 232,
   "id": "ddc0f678",
   "metadata": {},
   "outputs": [],
   "source": [
    "#generating lists for max glucose values for sample and population data set"
   ]
  },
  {
   "cell_type": "code",
   "execution_count": 46,
   "id": "230ede57",
   "metadata": {},
   "outputs": [],
   "source": [
    "keys=[\"sample\",\"population\"]"
   ]
  },
  {
   "cell_type": "code",
   "execution_count": 48,
   "id": "8d0b10c5",
   "metadata": {},
   "outputs": [],
   "source": [
    "values=[max_value_Glucose,population_max]"
   ]
  },
  {
   "cell_type": "code",
   "execution_count": 49,
   "id": "59841d34",
   "metadata": {},
   "outputs": [],
   "source": [
    "#visualizing the sample and population max value\n"
   ]
  },
  {
   "cell_type": "code",
   "execution_count": 50,
   "id": "2defbafd",
   "metadata": {},
   "outputs": [
    {
     "data": {
      "image/png": "[encoded data removed]",
      "text/plain": [
       "<Figure size 640x480 with 1 Axes>"
      ]
     },
     "metadata": {},
     "output_type": "display_data"
    }
   ],
   "source": [
    "plt.bar(keys, values, color ='blue',\n",
    "        width = 0.5)\n",
    " \n",
    "plt.xlabel(\"max\")\n",
    "plt.ylabel(\"max values\")\n",
    "plt.title(\"comparing sample and population Glucose max values\")\n",
    "\n",
    "\n",
    "plt.savefig(\"../results/sample_population_Glucose_max.png\")\n",
    "\n",
    "plt.show()\n"
   ]
  },
  {
   "cell_type": "code",
   "execution_count": 51,
   "id": "e4da1c36",
   "metadata": {},
   "outputs": [],
   "source": [
    "# generating the 98th percentile for BMI "
   ]
  },
  {
   "cell_type": "code",
   "execution_count": 52,
   "id": "1728d816",
   "metadata": {},
   "outputs": [],
   "source": [
    "sampledata_98=sample_data.BMI.quantile(0.98) \n"
   ]
  },
  {
   "cell_type": "code",
   "execution_count": 53,
   "id": "6e73ff76",
   "metadata": {},
   "outputs": [],
   "source": [
    "populationdata_98=df.BMI.quantile(0.98)"
   ]
  },
  {
   "cell_type": "code",
   "execution_count": 54,
   "id": "9f00a4c0",
   "metadata": {},
   "outputs": [],
   "source": [
    "#generating lists to visualize 98 th percentile of BMI"
   ]
  },
  {
   "cell_type": "code",
   "execution_count": 55,
   "id": "3e450ced",
   "metadata": {},
   "outputs": [],
   "source": [
    "keys=[\"sample\",\"population\"]\n",
    "\n",
    "values=[sampledata_98,populationdata_98]"
   ]
  },
  {
   "cell_type": "code",
   "execution_count": 56,
   "id": "cdc73d47",
   "metadata": {},
   "outputs": [],
   "source": [
    "# visualizing the 98th percentile of BMI\n"
   ]
  },
  {
   "cell_type": "code",
   "execution_count": 57,
   "id": "27b78328",
   "metadata": {},
   "outputs": [
    {
     "data": {
      "image/png": "[encoded data removed]",
      "text/plain": [
       "<Figure size 640x480 with 1 Axes>"
      ]
     },
     "metadata": {},
     "output_type": "display_data"
    }
   ],
   "source": [
    "plt.bar(keys, values, color ='green',\n",
    "        width = 0.4)\n",
    " \n",
    "plt.xlabel(\"98th percentile\")\n",
    "plt.ylabel(\" values \")\n",
    "plt.title(\"comparing sampledata and population 98th percentile\")\n",
    "\n",
    "\n",
    "plt.savefig(\"../results/sampledata_populationdata_98th_percentile.png\")\n",
    "\n",
    "plt.show()\n"
   ]
  },
  {
   "cell_type": "code",
   "execution_count": null,
   "id": "cf7e4d58",
   "metadata": {},
   "outputs": [],
   "source": []
  },
  {
   "cell_type": "code",
   "execution_count": 59,
   "id": "361006d3",
   "metadata": {},
   "outputs": [],
   "source": [
    "#  generating 500 sample using bootstrap"
   ]
  },
  {
   "cell_type": "code",
   "execution_count": 60,
   "id": "2944cde8",
   "metadata": {},
   "outputs": [
    {
     "name": "stdout",
     "output_type": "stream",
     "text": [
      "     Unnamed: 0  Pregnancies  Glucose  BloodPressure  SkinThickness  Insulin  \\\n",
      "450         450            1       82             64             13       95   \n",
      "17           17            7      107             74              0        0   \n",
      "465         465            0      124             56             13      105   \n",
      "348         348            3       99             62             19       74   \n",
      "187         187            1      128             98             41       58   \n",
      "..          ...          ...      ...            ...            ...      ...   \n",
      "22           22            7      196             90              0        0   \n",
      "142         142            2      108             52             26       63   \n",
      "372         372            0       84             64             22       66   \n",
      "637         637            2       94             76             18       66   \n",
      "74           74            1       79             75             30        0   \n",
      "\n",
      "      BMI  DiabetesPedigreeFunction  Age  Outcome  \n",
      "450  21.2                     0.415   23        0  \n",
      "17   29.6                     0.254   31        1  \n",
      "465  21.8                     0.452   21        0  \n",
      "348  21.8                     0.279   26        0  \n",
      "187  32.0                     1.321   33        1  \n",
      "..    ...                       ...  ...      ...  \n",
      "22   39.8                     0.451   41        1  \n",
      "142  32.5                     0.318   22        0  \n",
      "372  35.8                     0.545   21        0  \n",
      "637  31.6                     0.649   23        0  \n",
      "74   32.0                     0.396   22        0  \n",
      "\n",
      "[500 rows x 10 columns]\n"
     ]
    }
   ],
   "source": [
    "bs_sample= df.sample(n=500,replace=True ,random_state= 2923)\n",
    "print(bs_sample)\n"
   ]
  },
  {
   "cell_type": "code",
   "execution_count": 61,
   "id": "9a03167f",
   "metadata": {},
   "outputs": [],
   "source": [
    "# generating mean for bootsraop sample and population "
   ]
  },
  {
   "cell_type": "code",
   "execution_count": 62,
   "id": "97431d3c",
   "metadata": {},
   "outputs": [],
   "source": [
    "bs_mean=bs_sample[\"BloodPressure\"].mean()\n",
    "population_mean=df[\"BloodPressure\"].mean()"
   ]
  },
  {
   "cell_type": "code",
   "execution_count": 63,
   "id": "396c1c11",
   "metadata": {},
   "outputs": [],
   "source": [
    "#generating lists for mean values"
   ]
  },
  {
   "cell_type": "code",
   "execution_count": 64,
   "id": "570e42fd",
   "metadata": {},
   "outputs": [],
   "source": [
    "keys=[\"bs_data\",\"population\"]\n",
    "values=[bs_mean,population_mean]\n"
   ]
  },
  {
   "cell_type": "code",
   "execution_count": 65,
   "id": "0f513de3",
   "metadata": {},
   "outputs": [],
   "source": [
    "#visualizing the means"
   ]
  },
  {
   "cell_type": "code",
   "execution_count": 74,
   "id": "ed1625ce",
   "metadata": {},
   "outputs": [
    {
     "data": {
      "image/png": "[encoded data removed]",
      "text/plain": [
       "<Figure size 640x480 with 1 Axes>"
      ]
     },
     "metadata": {},
     "output_type": "display_data"
    }
   ],
   "source": [
    "plt.bar(keys, values, color ='green',\n",
    "        width = 0.4)\n",
    " \n",
    "plt.xlabel(\"mean\")\n",
    "plt.ylabel(\" values \")\n",
    "plt.title(\"comparing bootstapsample and populationmean for bloodpressure\")\n",
    "\n",
    "\n",
    "plt.savefig(\"../results/bsSample_population_mean.png\")\n",
    "\n",
    "plt.show()\n"
   ]
  },
  {
   "cell_type": "code",
   "execution_count": 67,
   "id": "4beeb90e",
   "metadata": {},
   "outputs": [],
   "source": [
    "#from the above plot  we can see identify that the mean for bootstrap sample and population data set are almost same"
   ]
  },
  {
   "cell_type": "code",
   "execution_count": 68,
   "id": "df5e3082",
   "metadata": {},
   "outputs": [],
   "source": [
    "# finding the standard deviation fr bootsrap sample and population"
   ]
  },
  {
   "cell_type": "code",
   "execution_count": 69,
   "id": "ddbd67e5",
   "metadata": {},
   "outputs": [],
   "source": [
    "bs_std=bs_sample[\"BloodPressure\"].std()\n",
    "population_std=df[\"BloodPressure\"].std()"
   ]
  },
  {
   "cell_type": "code",
   "execution_count": 70,
   "id": "d4632a25",
   "metadata": {},
   "outputs": [],
   "source": [
    "#creating lists for standard deviation of bloodpresuiure for bootstrap sample and population data set"
   ]
  },
  {
   "cell_type": "raw",
   "id": "59344c4a",
   "metadata": {},
   "source": [
    "keys=[\"bs_sample\",\"population\"]\n",
    "values=[bs_std,population_std]\n"
   ]
  },
  {
   "cell_type": "code",
   "execution_count": 71,
   "id": "cd9c2051",
   "metadata": {},
   "outputs": [],
   "source": [
    "#visualizing standard deviation "
   ]
  },
  {
   "cell_type": "code",
   "execution_count": 73,
   "id": "28da43e9",
   "metadata": {},
   "outputs": [
    {
     "data": {
      "image/png": "[encoded data removed]",
      "text/plain": [
       "<Figure size 640x480 with 1 Axes>"
      ]
     },
     "metadata": {},
     "output_type": "display_data"
    }
   ],
   "source": [
    "plt.bar(keys, values, color ='green',\n",
    "        width = 0.4)\n",
    " \n",
    "plt.xlabel(\"standard deviation\")\n",
    "plt.ylabel(\" values \")\n",
    "plt.title(\"comparing bootstapsample and population standard deviation for bloodpressure\")\n",
    "\n",
    "\n",
    "plt.savefig(\"../results/bsSample_population_standardDeviation.png\")\n",
    "\n",
    "plt.show()\n"
   ]
  },
  {
   "cell_type": "code",
   "execution_count": 258,
   "id": "204809d4",
   "metadata": {},
   "outputs": [],
   "source": [
    "#from above plot  we can see identify that the standard deviation fotr bootstrap sample and populatrion dataset are almost same"
   ]
  },
  {
   "cell_type": "code",
   "execution_count": 75,
   "id": "2e852e51",
   "metadata": {},
   "outputs": [],
   "source": [
    "# generating 98th percentile "
   ]
  },
  {
   "cell_type": "code",
   "execution_count": 76,
   "id": "d9428c89",
   "metadata": {},
   "outputs": [],
   "source": [
    "bs_98=bs_sample.BloodPressure.quantile(0.98) \n"
   ]
  },
  {
   "cell_type": "code",
   "execution_count": 77,
   "id": "a0cdaf0c",
   "metadata": {},
   "outputs": [],
   "source": [
    "populationdata_98=df.BloodPressure.quantile(0.98)"
   ]
  },
  {
   "cell_type": "code",
   "execution_count": 78,
   "id": "7a58f514",
   "metadata": {},
   "outputs": [],
   "source": [
    "keys=[\"bs sample\",\"population\"]\n",
    "\n",
    "values=[bs_98,populationdata_98]"
   ]
  },
  {
   "cell_type": "code",
   "execution_count": 79,
   "id": "3cb1c168",
   "metadata": {},
   "outputs": [],
   "source": [
    "# visualizing the 98th percentile"
   ]
  },
  {
   "cell_type": "code",
   "execution_count": 80,
   "id": "894ec77e",
   "metadata": {},
   "outputs": [
    {
     "data": {
      "image/png": "[encoded data removed]",
      "text/plain": [
       "<Figure size 640x480 with 1 Axes>"
      ]
     },
     "metadata": {},
     "output_type": "display_data"
    }
   ],
   "source": [
    "plt.bar(keys, values, color ='green',\n",
    "        width = 0.4)\n",
    " \n",
    "plt.xlabel(\"98th percentile\")\n",
    "plt.ylabel(\" values \")\n",
    "plt.title(\"comparing bootstrap sample and population 98th percentile\")\n",
    "\n",
    "\n",
    "plt.savefig(\"../results/bsdata_populationdata_Bloodpressure_98th_percentile.png\")\n",
    "\n",
    "plt.show()\n"
   ]
  },
  {
   "cell_type": "code",
   "execution_count": null,
   "id": "20691adc",
   "metadata": {},
   "outputs": [],
   "source": [
    "# from above plot we can see that for 98th percentile is same for bootstrap sample and population"
   ]
  }
 ],
 "metadata": {
  "kernelspec": {
   "display_name": "Python 3 (ipykernel)",
   "language": "python",
   "name": "python3"
  },
  "language_info": {
   "codemirror_mode": {
    "name": "ipython",
    "version": 3
   },
   "file_extension": ".py",
   "mimetype": "text/x-python",
   "name": "python",
   "nbconvert_exporter": "python",
   "pygments_lexer": "ipython3",
   "version": "3.9.13"
  }
 },
 "nbformat": 4,
 "nbformat_minor": 5
}
